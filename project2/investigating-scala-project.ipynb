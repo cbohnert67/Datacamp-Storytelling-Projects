{
 "cells": [
  {
   "cell_type": "markdown",
   "metadata": {},
   "source": [
    "# Investigating the Scala Language Open Source Project"
   ]
  },
  {
   "cell_type": "markdown",
   "metadata": {},
   "source": [
    "This is a second and bigger project that will showcase exploratory data analysis (EDA) with tools of Data Science with Python.\n",
    "\n",
    "The main objective of this work is to get some data ready for an EDA and to provide insights from it.\n",
    "\n",
    "There is no unique research question here. I need to explore an open source project I would like to contribute in: the Scala open source project.\n",
    "\n",
    "Scala is a mature programming language. \n",
    "\n",
    "It is a general-purpose programming language that has recently become another prominent language for data scientists. That's why I am curious about its development.\n",
    "\n",
    "As an open source project, it has the advantage that its entire development history -- who made changes, what was changed, code reviews, etc. -- is publicly available.\n",
    "\n",
    "I am therefore going to read in, clean up, and visualize the real world project repository of Scala.\n",
    "\n",
    "Data come from a version control system (Git) as well as a project hosting site (GitHub). \n",
    "\n",
    "I will try to visualize the evolution of the project and to find out who has had the most influence on its development and who are the experts of a particular file.\n",
    "\n",
    "The dataset I will use, which has been previously mined and extracted from GitHub, is comprised of three files:\n",
    "\n",
    "* <code>pulls_2011-2013.csv</code> contains the basic information about the pull requests, and spans from the end of 2011 up to (but not including) 2014.\n",
    "* <code>pulls_2014-2018.csv</code> contains identical information, and spans from 2014 up to 2018.\n",
    "* <code>pull_files.csv</code> contains the files that were modified by each pull request.\n",
    "\n",
    "\n",
    "Let's get started!"
   ]
  },
  {
   "cell_type": "markdown",
   "metadata": {
    "dc": {
     "key": "5"
    },
    "run_control": {
     "frozen": true
    },
    "tags": [
     "context"
    ]
   },
   "source": [
    "## Preparing and cleaning the data"
   ]
  },
  {
   "cell_type": "markdown",
   "metadata": {},
   "source": [
    "Let's first load each of the three data files."
   ]
  },
  {
   "cell_type": "code",
   "execution_count": 48,
   "metadata": {
    "dc": {
     "key": "5"
    },
    "tags": [
     "sample_code"
    ]
   },
   "outputs": [],
   "source": [
    "# Importing pandas\n",
    "import pandas as pd\n",
    "\n",
    "# Loading in the data\n",
    "pulls_one = pd.read_csv('pulls_2011-2013.csv')\n",
    "pulls_two = pd.read_csv('pulls_2014-2018.csv')\n",
    "pull_files = pd.read_csv('pull_files.csv')"
   ]
  },
  {
   "cell_type": "markdown",
   "metadata": {},
   "source": [
    "Second, I need to combine the data from the two separate pull DataFrames."
   ]
  },
  {
   "cell_type": "code",
   "execution_count": 49,
   "metadata": {},
   "outputs": [],
   "source": [
    "# Append pulls_one to pulls_two\n",
    "pulls = pd.concat([pulls_one, pulls_two])"
   ]
  },
  {
   "cell_type": "markdown",
   "metadata": {},
   "source": [
    "What info contains the pulls DataFrame?"
   ]
  },
  {
   "cell_type": "code",
   "execution_count": 50,
   "metadata": {},
   "outputs": [
    {
     "name": "stdout",
     "output_type": "stream",
     "text": [
      "<class 'pandas.core.frame.DataFrame'>\n",
      "Int64Index: 6200 entries, 0 to 2903\n",
      "Data columns (total 3 columns):\n",
      " #   Column  Non-Null Count  Dtype \n",
      "---  ------  --------------  ----- \n",
      " 0   pid     6200 non-null   int64 \n",
      " 1   user    6200 non-null   object\n",
      " 2   date    6200 non-null   object\n",
      "dtypes: int64(1), object(2)\n",
      "memory usage: 193.8+ KB\n"
     ]
    }
   ],
   "source": [
    "# Get the DataFrame's info\n",
    "pulls.info()"
   ]
  },
  {
   "cell_type": "markdown",
   "metadata": {
    "dc": {
     "key": "12"
    },
    "run_control": {
     "frozen": true
    },
    "tags": [
     "context"
    ]
   },
   "source": [
    "The raw data extracted from GitHub contains dates in the ISO8601 format. However, <code>pandas</code> imported them as regular strings. I need therefore to convert the strings into Python's <code>DateTime</code> objects. The pull request times are all in UTC (also known as Coordinated Universal Time). The commit times, however, are in the local time of the author with time zone information (number of hours difference from UTC). To make comparisons easy, we should convert all times to UTC."
   ]
  },
  {
   "cell_type": "code",
   "execution_count": 51,
   "metadata": {
    "dc": {
     "key": "12"
    },
    "tags": [
     "sample_code"
    ]
   },
   "outputs": [],
   "source": [
    "# Convert the date for the pulls object\n",
    "pulls['date'] = pd.to_datetime(pulls['date'], utc=True)"
   ]
  },
  {
   "cell_type": "markdown",
   "metadata": {
    "dc": {
     "key": "19"
    },
    "run_control": {
     "frozen": true
    },
    "tags": [
     "context"
    ]
   },
   "source": [
    "The data extracted comes in two separate files. Merging the two DataFrames will make it easier for me to analyze the data."
   ]
  },
  {
   "cell_type": "code",
   "execution_count": 52,
   "metadata": {
    "dc": {
     "key": "19"
    },
    "tags": [
     "sample_code"
    ]
   },
   "outputs": [],
   "source": [
    "# Merge the two DataFrames\n",
    "data = pd.merge(pulls, pull_files, on='pid')"
   ]
  },
  {
   "cell_type": "markdown",
   "metadata": {},
   "source": [
    "Let's check the result!"
   ]
  },
  {
   "cell_type": "code",
   "execution_count": 53,
   "metadata": {},
   "outputs": [
    {
     "data": {
      "text/html": [
       "<div>\n",
       "<style scoped>\n",
       "    .dataframe tbody tr th:only-of-type {\n",
       "        vertical-align: middle;\n",
       "    }\n",
       "\n",
       "    .dataframe tbody tr th {\n",
       "        vertical-align: top;\n",
       "    }\n",
       "\n",
       "    .dataframe thead th {\n",
       "        text-align: right;\n",
       "    }\n",
       "</style>\n",
       "<table border=\"1\" class=\"dataframe\">\n",
       "  <thead>\n",
       "    <tr style=\"text-align: right;\">\n",
       "      <th></th>\n",
       "      <th>pid</th>\n",
       "      <th>user</th>\n",
       "      <th>date</th>\n",
       "      <th>file</th>\n",
       "    </tr>\n",
       "  </thead>\n",
       "  <tbody>\n",
       "    <tr>\n",
       "      <th>0</th>\n",
       "      <td>11166973</td>\n",
       "      <td>VladimirNik</td>\n",
       "      <td>2013-12-31 23:10:55+00:00</td>\n",
       "      <td>src/reflect/scala/reflect/api/Printers.scala</td>\n",
       "    </tr>\n",
       "    <tr>\n",
       "      <th>1</th>\n",
       "      <td>11166973</td>\n",
       "      <td>VladimirNik</td>\n",
       "      <td>2013-12-31 23:10:55+00:00</td>\n",
       "      <td>src/reflect/scala/reflect/internal/Printers.scala</td>\n",
       "    </tr>\n",
       "    <tr>\n",
       "      <th>2</th>\n",
       "      <td>11166973</td>\n",
       "      <td>VladimirNik</td>\n",
       "      <td>2013-12-31 23:10:55+00:00</td>\n",
       "      <td>test/files/run/reify_ann3.check</td>\n",
       "    </tr>\n",
       "    <tr>\n",
       "      <th>3</th>\n",
       "      <td>11166973</td>\n",
       "      <td>VladimirNik</td>\n",
       "      <td>2013-12-31 23:10:55+00:00</td>\n",
       "      <td>test/junit/scala/reflect/internal/PrintersTest...</td>\n",
       "    </tr>\n",
       "    <tr>\n",
       "      <th>4</th>\n",
       "      <td>11161892</td>\n",
       "      <td>Ichoran</td>\n",
       "      <td>2013-12-31 16:55:47+00:00</td>\n",
       "      <td>src/library/scala/collection/mutable/ArrayOps....</td>\n",
       "    </tr>\n",
       "  </tbody>\n",
       "</table>\n",
       "</div>"
      ],
      "text/plain": [
       "        pid         user                      date  \\\n",
       "0  11166973  VladimirNik 2013-12-31 23:10:55+00:00   \n",
       "1  11166973  VladimirNik 2013-12-31 23:10:55+00:00   \n",
       "2  11166973  VladimirNik 2013-12-31 23:10:55+00:00   \n",
       "3  11166973  VladimirNik 2013-12-31 23:10:55+00:00   \n",
       "4  11161892      Ichoran 2013-12-31 16:55:47+00:00   \n",
       "\n",
       "                                                file  \n",
       "0       src/reflect/scala/reflect/api/Printers.scala  \n",
       "1  src/reflect/scala/reflect/internal/Printers.scala  \n",
       "2                    test/files/run/reify_ann3.check  \n",
       "3  test/junit/scala/reflect/internal/PrintersTest...  \n",
       "4  src/library/scala/collection/mutable/ArrayOps....  "
      ]
     },
     "execution_count": 53,
     "metadata": {},
     "output_type": "execute_result"
    }
   ],
   "source": [
    "data.head()"
   ]
  },
  {
   "cell_type": "code",
   "execution_count": 54,
   "metadata": {},
   "outputs": [
    {
     "name": "stdout",
     "output_type": "stream",
     "text": [
      "<class 'pandas.core.frame.DataFrame'>\n",
      "Int64Index: 85588 entries, 0 to 85587\n",
      "Data columns (total 4 columns):\n",
      " #   Column  Non-Null Count  Dtype              \n",
      "---  ------  --------------  -----              \n",
      " 0   pid     85588 non-null  int64              \n",
      " 1   user    85588 non-null  object             \n",
      " 2   date    85588 non-null  datetime64[ns, UTC]\n",
      " 3   file    85588 non-null  object             \n",
      "dtypes: datetime64[ns, UTC](1), int64(1), object(2)\n",
      "memory usage: 3.3+ MB\n"
     ]
    }
   ],
   "source": [
    "data.info()"
   ]
  },
  {
   "cell_type": "markdown",
   "metadata": {},
   "source": [
    "I am now ready for doing some EDA."
   ]
  },
  {
   "cell_type": "markdown",
   "metadata": {
    "dc": {
     "key": "26"
    },
    "run_control": {
     "frozen": true
    },
    "tags": [
     "context"
    ]
   },
   "source": [
    "## The pull requests activity of the Scala language\n",
    "\n",
    "The activity in an open source project is not very consistent. Some projects might be active for many years after the initial release, while others can slowly taper out into oblivion. \n",
    "\n",
    "Before committing to contributing to a project, it is important to understand the state of the project. Is development going steadily, or is there a drop? Has the project been abandoned altogether?\n",
    "\n",
    "These Scala data was collected in January of 2018. I am therefore interested in the evolution of the number of contributions up to that date.\n",
    "\n",
    "I will do this by plotting a chart of the project's activity. \n",
    "\n",
    "I will calculate the number of pull requests submitted each (calendar) month during the project's lifetime. \n",
    "\n",
    "I will then plot these numbers to see the trend of contributions twice : first as a barplot, second as a timeseries."
   ]
  },
  {
   "cell_type": "code",
   "execution_count": 110,
   "metadata": {
    "dc": {
     "key": "26"
    },
    "tags": [
     "sample_code"
    ]
   },
   "outputs": [
    {
     "data": {
      "image/png": "[encoded data removed]",
      "text/plain": [
       "<Figure size 1296x432 with 1 Axes>"
      ]
     },
     "metadata": {},
     "output_type": "display_data"
    }
   ],
   "source": [
    "# Importing Matplotlib\n",
    "import matplotlib.pyplot as plt\n",
    "\n",
    "# Create a column that will store the month\n",
    "data['month'] = data['date'].dt.month\n",
    "\n",
    "# Create a column that will store the year\n",
    "data['year'] = data['date'].dt.year\n",
    "\n",
    "# Group by the month and year and count the pull requests\n",
    "counts = data.groupby(by=['month', 'year']).count()\n",
    "\n",
    "# Sort the counts by the month and year\n",
    "counts = counts.sort_values(by=['year', 'month'])\n",
    "\n",
    "# Create readable xticks labels\n",
    "xticks_labels = [str(m)+'-'+str(y) for y in range(2011,2018) for m in range(1,13)]\n",
    "\n",
    "# Plot the results\n",
    "plt.style.use('seaborn-pastel')\n",
    "_ = counts.plot(kind='bar', color='grey', figsize = (18,6), rot=90)\n",
    "_.set_xticks(range(len(xticks_labels)))\n",
    "_.set_xticklabels(xticks_labels, rotation=90)\n",
    "_.legend()\n",
    "_.set_xlabel('Dates (mm-yyyy)')\n",
    "_.set_ylabel('Count of pull requests')\n",
    "_.get_legend().remove()"
   ]
  },
  {
   "cell_type": "code",
   "execution_count": 111,
   "metadata": {},
   "outputs": [
    {
     "data": {
      "image/png": "[encoded data removed]",
      "text/plain": [
       "<Figure size 1296x432 with 1 Axes>"
      ]
     },
     "metadata": {},
     "output_type": "display_data"
    }
   ],
   "source": [
    "# Importing Seaborn\n",
    "import seaborn as sns\n",
    "\n",
    "\n",
    "# Group by the date and count the pull requests\n",
    "by_dates = data.groupby('date').count()\n",
    "\n",
    "# Group by the month and count the pull requests\n",
    "by_months = by_dates.resample('M', convention='end').agg('count')\n",
    "\n",
    "# Plot the time series of monthly pull requests\n",
    "plt.figure(figsize=(18, 6))\n",
    "_ = sns.lineplot(x=by_months.index, y='pid', data=by_months, color='grey', linewidth=4)\n",
    "_.set_xlabel('Date (yyyy)')\n",
    "_.set_ylabel('Count of pull requests per month')\n",
    "plt.show()"
   ]
  },
  {
   "cell_type": "markdown",
   "metadata": {},
   "source": [
    "Well, these two visualizations tells the same story:\n",
    "\n",
    "The activity of the Scala language had more than 100 monthly contributions during two years, from 2012 to 2014.\n",
    "\n",
    "However, there is a drop in the activity in the beginning of 2014.\n",
    "\n",
    "Unfortunately, this might mean the project is in decline during latest years. But it is not.\n",
    "\n",
    "Looking closer at the time series, we can also see that this activity is steady from 2014 to 2018.\n",
    "\n",
    "In 'average', a nearly 50 monthly contributions is observed. Somewhat interesting!"
   ]
  },
  {
   "cell_type": "markdown",
   "metadata": {
    "dc": {
     "key": "33"
    },
    "run_control": {
     "frozen": true
    },
    "tags": [
     "context"
    ]
   },
   "source": [
    "## Is the project really open?\n",
    "\n",
    "The organizational structure varies from one project to another, and it can influence my success as a contributor. A project that has a very small community might not be the best one to start working on. \n",
    "\n",
    "A small community might indicate a high barrier of entry. This can be caused by several factors, including a community that is reluctant to accept pull requests from \"outsiders,\" that the code base is hard to work with, etc.\n",
    "\n",
    "However, a large community can serve as an indicator that the project is regularly accepting pull requests from new contributors. Such a project would be a good place to start.\n",
    "\n",
    "\n",
    "In order to evaluate the dynamics of the community, I will plot a histogram of the number of pull requests submitted by each user. \n",
    "\n",
    "A distribution that shows that there are few people that only contribute a small number of pull requests can be used as in indicator that the project is not welcoming of new contributors.\n",
    "\n",
    "What about the Scala project?"
   ]
  },
  {
   "cell_type": "code",
   "execution_count": 106,
   "metadata": {
    "dc": {
     "key": "33"
    },
    "tags": [
     "sample_code"
    ]
   },
   "outputs": [
    {
     "data": {
      "image/png": "[encoded data removed]",
      "text/plain": [
       "<Figure size 1296x432 with 1 Axes>"
      ]
     },
     "metadata": {},
     "output_type": "display_data"
    }
   ],
   "source": [
    "# Group by the submitter\n",
    "by_user = data.groupby(by='user')['pid'].count()\n",
    "\n",
    "# Plot the histogram\n",
    "plt.figure(figsize=(18, 6))\n",
    "_ = sns.histplot(by_user, kde=False, color='grey', bins=100)\n",
    "_.set_xlabel('Count of pull requests')\n",
    "_.set_ylabel('Count of users')\n",
    "plt.show()"
   ]
  },
  {
   "cell_type": "markdown",
   "metadata": {},
   "source": [
    "It seems most of users are small contributors. \n",
    "\n",
    "Let's have a closer look at the smallest activities. How many users contributes less than 25 pull requests in the project?"
   ]
  },
  {
   "cell_type": "code",
   "execution_count": 107,
   "metadata": {},
   "outputs": [
    {
     "data": {
      "image/png": "[encoded data removed]",
      "text/plain": [
       "<Figure size 1296x432 with 1 Axes>"
      ]
     },
     "metadata": {},
     "output_type": "display_data"
    }
   ],
   "source": [
    "# Restrict users to less than 25 contributions\n",
    "by_user_restricted = by_user[by_user < 25]\n",
    "\n",
    "# Plot the histogram\n",
    "plt.figure(figsize=(18, 6))\n",
    "_ = sns.histplot(by_user_restricted, kde=False, color='grey', bins=100)\n",
    "_.set_xlabel('Count of pull requests')\n",
    "_.set_ylabel('Count of users')\n",
    "plt.show()"
   ]
  },
  {
   "cell_type": "markdown",
   "metadata": {},
   "source": [
    "I see 120 users have contributed only once in the project. This seems to be an open and welcoming community. Great!"
   ]
  },
  {
   "cell_type": "markdown",
   "metadata": {},
   "source": [
    "Wait, what will an ECDF plot tell me? Let me plot it."
   ]
  },
  {
   "cell_type": "code",
   "execution_count": 108,
   "metadata": {},
   "outputs": [
    {
     "data": {
      "image/png": "[encoded data removed]",
      "text/plain": [
       "<Figure size 1296x432 with 1 Axes>"
      ]
     },
     "metadata": {},
     "output_type": "display_data"
    }
   ],
   "source": [
    "# Plot the ecdf\n",
    "plt.figure(figsize=(18, 6))\n",
    "_ = sns.ecdfplot(by_user, color='grey', linewidth=4)\n",
    "_.set_xlabel('Count of pull requests')\n",
    "_.set_ylabel('Proportion of users')\n",
    "plt.show()"
   ]
  },
  {
   "cell_type": "markdown",
   "metadata": {},
   "source": [
    "Again, let's quick check the least pull requests!"
   ]
  },
  {
   "cell_type": "code",
   "execution_count": 109,
   "metadata": {},
   "outputs": [
    {
     "data": {
      "image/png": "[encoded data removed]",
      "text/plain": [
       "<Figure size 1296x432 with 1 Axes>"
      ]
     },
     "metadata": {},
     "output_type": "display_data"
    }
   ],
   "source": [
    "# Plot the ecdf\n",
    "plt.figure(figsize=(18, 6))\n",
    "_ = sns.ecdfplot(by_user_restricted, color='grey', linewidth=4)\n",
    "_.set_xlabel('Count of pull requests')\n",
    "_.set_ylabel('Proportion of users')\n",
    "plt.show()"
   ]
  },
  {
   "cell_type": "markdown",
   "metadata": {},
   "source": [
    "These two plots confirm our observation with the histograms: most of the Scala project contributors are small contributors."
   ]
  },
  {
   "cell_type": "markdown",
   "metadata": {
    "dc": {
     "key": "40"
    },
    "run_control": {
     "frozen": true
    },
    "tags": [
     "context"
    ]
   },
   "source": [
    "## What files might not be the most effective use of my time?\n",
    "\n",
    "Choosing the right place to make a contribution is as important as choosing the project to contribute to. \n",
    "\n",
    "Some parts of the code might be stable, some might be dead. Contributing there might not have the most impact. \n",
    "\n",
    "Therefore it is important to understand the parts of the system that have been recently changed. This allows me to pinpoint the \"hot\" areas of the code where most of the activity is happening. \n",
    "\n",
    "Focusing on those parts might not be the most effective use of my time.\n",
    "\n",
    "What are the files concerned with the 10 most recent pull requests?"
   ]
  },
  {
   "cell_type": "code",
   "execution_count": 78,
   "metadata": {
    "dc": {
     "key": "40"
    },
    "tags": [
     "sample_code"
    ]
   },
   "outputs": [
    {
     "data": {
      "text/plain": [
       "{'LICENSE',\n",
       " 'doc/LICENSE.md',\n",
       " 'doc/License.rtf',\n",
       " 'project/VersionUtil.scala',\n",
       " 'src/compiler/scala/reflect/reify/phases/Calculate.scala',\n",
       " 'src/compiler/scala/tools/nsc/backend/jvm/BCodeHelpers.scala',\n",
       " 'src/compiler/scala/tools/nsc/backend/jvm/PostProcessor.scala',\n",
       " 'src/compiler/scala/tools/nsc/backend/jvm/analysis/BackendUtils.scala',\n",
       " 'src/compiler/scala/tools/nsc/profile/AsyncHelper.scala',\n",
       " 'src/compiler/scala/tools/nsc/profile/Profiler.scala',\n",
       " 'src/compiler/scala/tools/nsc/symtab/classfile/ClassfileParser.scala',\n",
       " 'src/compiler/scala/tools/nsc/typechecker/Contexts.scala',\n",
       " 'src/library/scala/Predef.scala',\n",
       " 'src/library/scala/concurrent/Lock.scala',\n",
       " 'src/library/scala/util/Properties.scala',\n",
       " 'src/reflect/scala/reflect/internal/pickling/ByteCodecs.scala',\n",
       " 'src/reflect/scala/reflect/internal/tpe/GlbLubs.scala',\n",
       " 'src/scaladoc/scala/tools/nsc/doc/html/page/Entity.scala',\n",
       " 'src/scalap/decoder.properties',\n",
       " 'test/files/neg/leibniz-liskov.check',\n",
       " 'test/files/neg/leibniz-liskov.scala',\n",
       " 'test/files/pos/leibniz-liskov.scala',\n",
       " 'test/files/pos/leibniz_liskov.scala',\n",
       " 'test/files/pos/parallel-classloader.scala',\n",
       " 'test/files/pos/t10568/Converter.java',\n",
       " 'test/files/pos/t10568/Impl.scala',\n",
       " 'test/files/pos/t10686.scala',\n",
       " 'test/files/pos/t5638/Among.java',\n",
       " 'test/files/pos/t5638/Usage.scala',\n",
       " 'test/files/pos/t9291.scala',\n",
       " 'test/files/run/t8348.check',\n",
       " 'test/files/run/t8348/TableColumn.java',\n",
       " 'test/files/run/t8348/TableColumnImpl.java',\n",
       " 'test/files/run/t8348/Test.scala'}"
      ]
     },
     "execution_count": 78,
     "metadata": {},
     "output_type": "execute_result"
    }
   ],
   "source": [
    "# Identify the last 10 pull requests\n",
    "last_10 = pulls.nlargest(10, columns='date')\n",
    "\n",
    "# Join the two data sets\n",
    "joined_pr = last_10.merge(pull_files, on='pid')\n",
    "\n",
    "# Identify the unique files\n",
    "files = set(joined_pr['file'].unique())\n",
    "\n",
    "# Print the results\n",
    "files"
   ]
  },
  {
   "cell_type": "markdown",
   "metadata": {},
   "source": [
    "These files were on the most recent active development up to date.\n",
    "\n",
    "I am interested in one specific file: <code>src/compiler/scala/reflect/reify/phases/Calculate.scala</code>. But wait."
   ]
  },
  {
   "cell_type": "markdown",
   "metadata": {
    "dc": {
     "key": "47"
    },
    "run_control": {
     "frozen": true
    },
    "tags": [
     "context"
    ]
   },
   "source": [
    "## Who could help me the most?\n",
    "\n",
    "When contributing to that project, I might need some guidance. \n",
    "    \n",
    "I might find myselves needing some information regarding the file I choose.\n",
    "    \n",
    "Contributors to open source projects generally have other day jobs, so their time is limited. It is important to address my questions to the right people. \n",
    "    \n",
    "One way to identify the right target for my inquiries is by using their contribution history.\n",
    "\n",
    "I am interested in the top 3 developers who changed that file <code>Calculate.scala</code>. \n",
    "\n",
    "Those developers are the ones most likely to have the best understanding of the code."
   ]
  },
  {
   "cell_type": "code",
   "execution_count": 97,
   "metadata": {
    "dc": {
     "key": "47"
    },
    "tags": [
     "sample_code"
    ]
   },
   "outputs": [
    {
     "data": {
      "text/html": [
       "<div>\n",
       "<style scoped>\n",
       "    .dataframe tbody tr th:only-of-type {\n",
       "        vertical-align: middle;\n",
       "    }\n",
       "\n",
       "    .dataframe tbody tr th {\n",
       "        vertical-align: top;\n",
       "    }\n",
       "\n",
       "    .dataframe thead th {\n",
       "        text-align: right;\n",
       "    }\n",
       "</style>\n",
       "<table border=\"1\" class=\"dataframe\">\n",
       "  <thead>\n",
       "    <tr style=\"text-align: right;\">\n",
       "      <th></th>\n",
       "      <th>pid</th>\n",
       "      <th>date</th>\n",
       "      <th>file</th>\n",
       "      <th>month</th>\n",
       "      <th>year</th>\n",
       "    </tr>\n",
       "    <tr>\n",
       "      <th>user</th>\n",
       "      <th></th>\n",
       "      <th></th>\n",
       "      <th></th>\n",
       "      <th></th>\n",
       "      <th></th>\n",
       "    </tr>\n",
       "  </thead>\n",
       "  <tbody>\n",
       "    <tr>\n",
       "      <th>xeno-by</th>\n",
       "      <td>11</td>\n",
       "      <td>11</td>\n",
       "      <td>11</td>\n",
       "      <td>11</td>\n",
       "      <td>11</td>\n",
       "    </tr>\n",
       "    <tr>\n",
       "      <th>retronym</th>\n",
       "      <td>5</td>\n",
       "      <td>5</td>\n",
       "      <td>5</td>\n",
       "      <td>5</td>\n",
       "      <td>5</td>\n",
       "    </tr>\n",
       "    <tr>\n",
       "      <th>soc</th>\n",
       "      <td>4</td>\n",
       "      <td>4</td>\n",
       "      <td>4</td>\n",
       "      <td>4</td>\n",
       "      <td>4</td>\n",
       "    </tr>\n",
       "  </tbody>\n",
       "</table>\n",
       "</div>"
      ],
      "text/plain": [
       "          pid  date  file  month  year\n",
       "user                                  \n",
       "xeno-by    11    11    11     11    11\n",
       "retronym    5     5     5      5     5\n",
       "soc         4     4     4      4     4"
      ]
     },
     "execution_count": 97,
     "metadata": {},
     "output_type": "execute_result"
    }
   ],
   "source": [
    "# This is the file I am interested in:\n",
    "file = 'src/compiler/scala/reflect/reify/phases/Calculate.scala'\n",
    "\n",
    "# Identify the commits that changed the file\n",
    "file_pr = data[data['file']==file]\n",
    "\n",
    "# Count the number of changes made by each developer\n",
    "author_counts = file_pr.groupby(by='user').count()\n",
    "\n",
    "# Print the top 3 developers\n",
    "author_counts.nlargest(3, columns='pid')"
   ]
  },
  {
   "cell_type": "markdown",
   "metadata": {},
   "source": [
    "I know now who has the best understanding of the code from that file. \n",
    "\n",
    "I could have a look for another file and their best contributors with my last work, but do these users still work on the file?"
   ]
  },
  {
   "cell_type": "markdown",
   "metadata": {
    "dc": {
     "key": "54"
    },
    "run_control": {
     "frozen": true
    },
    "tags": [
     "context"
    ]
   },
   "source": [
    "## Who is still working on a file I am interested in?\n",
    "\n",
    "Open source projects suffer from fluctuating membership. This makes the problem of finding the right person more challenging: the person has to be knowledgeable **and** still be involved in the project. \n",
    "    \n",
    "A person that contributed a lot in the past might no longer be available (or willing) to help. \n",
    "    \n",
    "To get a better understanding, I need to investigate the more recent history of that particular part of the system.\n",
    "    \n",
    "Like in the previous work, I will look at the history of  <code>src/compiler/scala/reflect/reify/phases/Calculate.scala</code>."
   ]
  },
  {
   "cell_type": "code",
   "execution_count": 80,
   "metadata": {
    "dc": {
     "key": "54"
    },
    "tags": [
     "sample_code"
    ]
   },
   "outputs": [
    {
     "data": {
      "text/plain": [
       "{'bjornregnell', 'retronym', 'soc', 'starblood', 'xeno-by', 'zuvizudar'}"
      ]
     },
     "execution_count": 80,
     "metadata": {},
     "output_type": "execute_result"
    }
   ],
   "source": [
    "file = 'src/compiler/scala/reflect/reify/phases/Calculate.scala'\n",
    "\n",
    "# Select the pull requests that changed the target file\n",
    "file_pr = data[data['file']==file]\n",
    "\n",
    "# Merge the obtained results with the pulls DataFrame\n",
    "joined_pr = file_pr.merge(pulls, on='pid')\n",
    "\n",
    "# Find the users of the last 10 most recent pull requests\n",
    "users_last_10 = set(joined_pr.nlargest(10, columns=['date_y'])['user_x'])\n",
    "\n",
    "# Printing the results\n",
    "users_last_10"
   ]
  },
  {
   "cell_type": "markdown",
   "metadata": {},
   "source": [
    "I see that fortunately the three users, <code>xeno-by</code>, <code>retronym</code> and <code>soc</code> that know the file the best are still working on. Let's check their activity and find out who might I contact!"
   ]
  },
  {
   "cell_type": "markdown",
   "metadata": {
    "dc": {
     "key": "61"
    },
    "run_control": {
     "frozen": true
    },
    "tags": [
     "context"
    ]
   },
   "source": [
    "## The pull requests of three special developers\n",
    "\n",
    "Now that I have identified three potential contacts in the project, I need to find the person who was most involved in the project in recent times.\n",
    "\n",
    "That person is most likely to answer my questions. \n",
    "\n",
    "For each calendar year, I am therefore interested in understanding the number of pull requests the authors submitted. \n",
    "\n",
    "This will give me a high-level image of their contribution trend to the project and help me to identify who is likely to help me the most."
   ]
  },
  {
   "cell_type": "code",
   "execution_count": 103,
   "metadata": {
    "dc": {
     "key": "61"
    },
    "tags": [
     "sample_code"
    ]
   },
   "outputs": [
    {
     "data": {
      "image/png": "[encoded data removed]",
      "text/plain": [
       "<Figure size 1296x432 with 1 Axes>"
      ]
     },
     "metadata": {},
     "output_type": "display_data"
    }
   ],
   "source": [
    "# The developers we are interested in\n",
    "authors = ['xeno-by', 'retronym', 'soc']\n",
    "\n",
    "# Get all the developers' pull requests\n",
    "by_author = pulls[pulls['user'].isin(authors)]\n",
    "\n",
    "# Count the number of pull requests submitted each year\n",
    "counts = by_author.groupby(['user', by_author['date'].dt.year]).agg({'pid': 'count'}).reset_index()\n",
    "\n",
    "# Convert the table to a wide format\n",
    "counts_wide = counts.pivot_table(index='date', columns='user', values='pid', fill_value=0)\n",
    "\n",
    "# Plot the results\n",
    "_ = counts_wide.plot(kind='bar', figsize = (18,6))\n",
    "_.set_xlabel('Date (yyyy)')\n",
    "_.set_ylabel('Count of pull requests')\n",
    "plt.show()"
   ]
  },
  {
   "cell_type": "markdown",
   "metadata": {},
   "source": [
    "That's <code>retronym</code> who could help me in the Scala project! Really? But how much experience has he in the file I am intested in ?"
   ]
  },
  {
   "cell_type": "markdown",
   "metadata": {
    "dc": {
     "key": "68"
    },
    "run_control": {
     "frozen": true
    },
    "tags": [
     "context"
    ]
   },
   "source": [
    "## Visualizing the contributions of each developer in <code>Calculate.scala</code>\n",
    "As mentioned before, it is important to make a distinction between the global expertise and contribution levels and the contribution levels at a more granular level (file, submodule, etc.) \n",
    "\n",
    "In my case, I want to see which of our three developers of interest have the most experience with the code in a given file. \n",
    "\n",
    "I will measure experience by the number of pull requests submitted that affect that file and how recent those pull requests were submitted."
   ]
  },
  {
   "cell_type": "code",
   "execution_count": 112,
   "metadata": {
    "dc": {
     "key": "68"
    },
    "tags": [
     "sample_code"
    ]
   },
   "outputs": [
    {
     "data": {
      "image/png": "[encoded data removed]",
      "text/plain": [
       "<Figure size 1296x432 with 1 Axes>"
      ]
     },
     "metadata": {},
     "output_type": "display_data"
    }
   ],
   "source": [
    "authors = ['xeno-by', 'retronym', 'soc']\n",
    "file = 'src/compiler/scala/reflect/reify/phases/Calculate.scala'\n",
    "\n",
    "# Select the pull requests submitted by the authors, from the `data` DataFrame\n",
    "by_author = data[data['user'].isin(authors)]\n",
    "\n",
    "# Select the pull requests that affect the file\n",
    "by_file = by_author[by_author['file']==file]\n",
    "\n",
    "# Group and count the number of PRs done by each user each year\n",
    "grouped = by_file.groupby(['user', by_file['date'].dt.year]).count()['pid'].reset_index()\n",
    "\n",
    "# Transform the data into a wide format\n",
    "by_file_wide = grouped.pivot_table(index='date', columns='user', values='pid', fill_value=0)\n",
    "\n",
    "\n",
    "# Plot the results\n",
    "_ = by_file_wide.plot(kind='bar', figsize = (18,6))\n",
    "_.set_xlabel('Date (yyyy)')\n",
    "_.set_ylabel('Count of pull requests')\n",
    "plt.show()"
   ]
  },
  {
   "cell_type": "markdown",
   "metadata": {},
   "source": [
    "Nice, I can now compare through visualization the experience of the three top contributors of the file. I can do my analysis.\n",
    "\n",
    "I can see <code>xeno-by</code> has most pull requests in total. Then <code>retronym</code> and <code>soc</code>.\n",
    "\n",
    "However, contributions have been done in the beginning of the Scala project! \n",
    "\n",
    "The most recent active contributor in the overall project is <code>retronym</code>. It happens he is the second top contributor in the file of my interest. \n",
    "\n",
    "He is the best match of my research! "
   ]
  },
  {
   "cell_type": "markdown",
   "metadata": {},
   "source": [
    "The Scala project is steadily still active and a welcoming open source community to work with.\n",
    "\n",
    "I found out the most recent files under development and I found out likely the most active and experienced user that could help in pa specific file. Nice job!"
   ]
  },
  {
   "cell_type": "code",
   "execution_count": null,
   "metadata": {},
   "outputs": [],
   "source": []
  }
 ],
 "metadata": {
  "editor": "DataCamp Workspace",
  "kernelspec": {
   "display_name": "Python 3 (ipykernel)",
   "language": "python",
   "name": "python3"
  },
  "language_info": {
   "codemirror_mode": {
    "name": "ipython",
    "version": 3
   },
   "file_extension": ".py",
   "mimetype": "text/x-python",
   "name": "python",
   "nbconvert_exporter": "python",
   "pygments_lexer": "ipython3",
   "version": "3.10.4"
  }
 },
 "nbformat": 4,
 "nbformat_minor": 4
}
